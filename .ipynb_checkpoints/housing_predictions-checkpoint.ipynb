{
 "cells": [
  {
   "cell_type": "markdown",
   "metadata": {},
   "source": [
    "#### Objective\n",
    "Predict home sales price (col: SalePrice)\n",
    "\n",
    "#### Data definitions:\n",
    "https://storage.googleapis.com/kaggle-competitions-data/kaggle/5407/data_description.txt?GoogleAccessId=web-data@kaggle-161607.iam.gserviceaccount.com&Expires=1523759412&Signature=TKGZ5WoA2vm%2BkVWWLIqdi2wQrWA%2BaOFbL2CfdoS82NlwuYnHtlmYuE1vQ05uKGKh0Vbj%2B0sMr6ZiYy2PuCHqOiLYTvbGOCMjVjT1TQREH3nnMwdVdff1KpqhxYxd9zfZy7pEpttwYJoPkh0wH2WYdIHRxa1PP2NYyofCcCKavWrMfk9FVkFunUuDUho3NRkAwY%2BeupV09gjCoUYWLFX%2BjgUzgZijWZZykrQfMnDZkFRFLrGdxjwsGYlSW97xfp4OnRKWszDBznp%2B672gBAgnuykalBIfUgoWaSL2ee3mvtklLQ9RDNXun4NeQWdmqW6T5I2o9PhJPIxmKdTN2A3YBQ%3D%3DS\n",
    "\n",
    "#### Areas of Interest\n",
    "* bathrooms\n",
    "* basement\n",
    "* time of purchase  \n",
    "* pool\n",
    "* garage  \n",
    "* kitchen  \n",
    "* neighborhood\n",
    "* outdoor area (porch, deck, fence)"
   ]
  },
  {
   "cell_type": "code",
   "execution_count": 170,
   "metadata": {
    "collapsed": true
   },
   "outputs": [],
   "source": [
    "%matplotlib inline\n",
    "\n",
    "import numpy as np\n",
    "import pandas as pd\n",
    "import matplotlib.pyplot as plt\n",
    "import seaborn as sns\n",
    "\n",
    "from sklearn.model_selection import KFold\n",
    "from sklearn.model_selection import GridSearchCV\n",
    "from sklearn.model_selection import RandomizedSearchCV\n",
    "\n",
    "from sklearn.cluster import KMeans\n",
    "\n",
    "from sklearn.ensemble import GradientBoostingRegressor\n",
    "from sklearn.linear_model import LinearRegression\n",
    "from sklearn.ensemble import RandomForestRegressor\n",
    "\n",
    "from sklearn.preprocessing import Imputer\n",
    "from sklearn.preprocessing import LabelBinarizer\n",
    "from sklearn.preprocessing import MinMaxScaler\n",
    "from sklearn.preprocessing import StandardScaler"
   ]
  },
  {
   "cell_type": "code",
   "execution_count": 171,
   "metadata": {
    "collapsed": true
   },
   "outputs": [],
   "source": [
    "# functions\n",
    "def one_hot():\n",
    "    pass\n",
    "\n",
    "def get_correlations():\n",
    "    return train.corr()['SalePrice'].sort_values(ascending=False)\n",
    "\n",
    "def view_avg_price(df, x, y='SalePrice'):\n",
    "    sns.barplot(data=df, x=x, y=y, estimator=np.mean)\n",
    "    \n",
    "def view_violins(df, y, x='SalePrice'):\n",
    "    sns.violinplot(data=df, x=x, y=y, scale='count')\n",
    "\n",
    "# impute\n",
    "def impute_df(df):\n",
    "    imp = Imputer(strategy='median')\n",
    "    imp_ft = imp.fit_transform(df)\n",
    "    return pd.DataFrame(imp_ft, columns=cols)\n",
    "\n",
    "# scale\n",
    "def scale_df(df):\n",
    "    mx = StandardScaler()\n",
    "    m_ft = mx.fit_transform(df)\n",
    "    return pd.DataFrame(m_ft, columns=cols)\n",
    "\n",
    "    \n",
    "# create submissions \n",
    "def create_submissions_file(predictions, filename='house_price_submissions'):\n",
    "    o = pd.DataFrame(np.arange(1461, 2920), columns=['Id'])\n",
    "    o['SalePrice'] = preds\n",
    "    o.to_csv(filename + '.csv', index=False)"
   ]
  },
  {
   "cell_type": "code",
   "execution_count": 172,
   "metadata": {
    "collapsed": true
   },
   "outputs": [],
   "source": [
    "train_raw = pd.read_csv('train.csv')\n",
    "test_raw = pd.read_csv('test.csv')\n",
    "\n",
    "train = train_raw.copy()\n",
    "test = test_raw.copy()"
   ]
  },
  {
   "cell_type": "code",
   "execution_count": 183,
   "metadata": {},
   "outputs": [],
   "source": [
    "# one-hot\n",
    "# Neighborhood\n",
    "# MSZoning\n",
    "# HouseStyle\n",
    "# Exterior1st\n",
    "\n",
    "# age\n",
    "for df in [train, test]:\n",
    "    df['home_age'] = df.YrSold - df.YearBuilt\n",
    "    \n",
    "# basement\n",
    "for df in [train, test]:\n",
    "    df['bmt_cond'] = df.BsmtQual.map({'Ex':1, 'Gd':2, 'TA':3, 'Fa':4, 'Po':5, np.nan:6})\n",
    "    df['bmt_cond'] = df.BsmtQual.map({'Ex':1, 'Gd':2, 'TA':3, 'Fa':4, 'Po':5, np.nan:6})\n",
    "    df['bmt_exp'] = df.BsmtExposure.map({'Gd':1, 'Av':2, 'Mn':3, 'No':4, np.nan:5})\n",
    "    df['bmt_fin'] = df.BsmtFinType1.map({'GLQ':1, 'ALQ':2, 'BLQ':3, 'Rec':4, 'LwQ':5, 'Unf':6, np.nan:7} )\n",
    "\n",
    "# bathrooms\n",
    "for df in [train, test]:\n",
    "    df['total_baths'] = (df.FullBath.values * 1.0) + \\\n",
    "    (df.HalfBath.values * 0.5) + \\\n",
    "    (df.BsmtFullBath.values * 1.0) + \\\n",
    "    (df.BsmtHalfBath.values * 0.5)\n",
    "\n",
    "# cul-de-sac\n",
    "for df in [train, test]:\n",
    "    df['has_culdesac'] = np.where(df.LotConfig == 'CulDSac', 1, 0)\n",
    "\n",
    "# garage    \n",
    "for df in [train, test]:\n",
    "    df['has_garage'] = np.where(df.GarageType.isnull().values, 0, 1)\n",
    "    df['garage_fin'] = df.GarageFinish.map({'Fin':1, 'RFn':2, 'Unf':3, np.nan:4})\n",
    "    df['garage_qual'] = df.GarageQual.map({'Ex':1, 'Gd':2, 'TA':3, 'Fa':4, 'Po':5, np.nan:6})\n",
    "    df['garage_cond'] = df.GarageCond.map({'Ex':1, 'Gd':2, 'TA':3, 'Fa':4, 'Po':5, np.nan:6}) \n",
    "\n",
    "# kitchen quality\n",
    "for df in [train, test]:\n",
    "    df['kitchen_quality'] = df.KitchenQual.map({'Ex': 1, 'Gd':2, 'TA':3, 'Fa':4, np.nan:5})\n",
    "\n",
    "# lot shape\n",
    "for df in [train, test]:\n",
    "    df['lot_shape'] = df.LotShape.map({'Reg': 1, 'IR1':2, 'IR2':3, 'IR3':4, np.nan:5})\n",
    "    df['is_lot_shape_reg'] = np.where(df['lot_shape'] > 1, 0, 1)\n",
    "\n",
    "# neighborhood\n",
    "#rich = ['Timber', 'StoneBr', 'NridgHt', 'NoRidge',]\n",
    "rich = ['Veenker', 'Somerst', 'Timber', 'StoneBr', 'NridgHt', 'NoRidge']\n",
    "for df in [train, test]:\n",
    "    df['rich_neighbor'] = df.Neighborhood.isin(rich)\n",
    "    df['rich_neighbor'] = np.where(df.rich_neighbor == True, 1, 0)\n",
    "\n",
    "# square-footage\n",
    "sfs = [c for c in list(train.columns) if 'SF' in c]\n",
    "for df in [train, test]:\n",
    "    df['total_sf'] = df[sfs].sum(axis=1)"
   ]
  },
  {
   "cell_type": "code",
   "execution_count": 184,
   "metadata": {},
   "outputs": [],
   "source": [
    "# columns to include\n",
    "y = train['SalePrice']\n",
    "\n",
    "types = ['int32', 'int64', 'float32', 'float64']\n",
    "cols = [c for c in list(train.columns) if (train[c].dtype in types) & (c != 'Id') & (c != 'SalePrice')]\n",
    "\n",
    "train_anal = train[cols].copy()\n",
    "test_anal = test[cols].copy()"
   ]
  },
  {
   "cell_type": "code",
   "execution_count": 185,
   "metadata": {},
   "outputs": [],
   "source": [
    "# impute features\n",
    "train_anal = impute_df(train_anal)\n",
    "test_anal = impute_df(test_anal)"
   ]
  },
  {
   "cell_type": "code",
   "execution_count": 189,
   "metadata": {
    "collapsed": true
   },
   "outputs": [],
   "source": [
    "# scale features\n",
    "train_anal = scale_df(train_anal)\n",
    "test_anal = scale_df(test_anal)"
   ]
  },
  {
   "cell_type": "code",
   "execution_count": 154,
   "metadata": {},
   "outputs": [],
   "source": [
    "# recursive feature elimination (RFE)\n",
    "# start with all features, build model, discards least import feature, repeat\n",
    "\n",
    "from sklearn.feature_selection import RFE\n",
    "from sklearn.feature_selection import RFECV\n",
    "from sklearn.svm import SVR\n",
    "\n",
    "\n",
    "estimator = SVR(kernel=\"linear\")\n",
    "selector = RFECV(estimator, step=1, cv=5)\n",
    "selector = selector.fit(train, y)\n",
    "\n",
    "\n",
    "\n",
    "#pd.DataFrame(select.cv_results_).sort_values('mean_test_score', ascending=False).head()\n",
    "\n",
    "# select = RFE(RandomForestRegressor(n_estimators=100, random_state=42), n_features_to_select=20)\n",
    "# select.fit(train, y)"
   ]
  },
  {
   "cell_type": "code",
   "execution_count": 159,
   "metadata": {},
   "outputs": [
    {
     "name": "stdout",
     "output_type": "stream",
     "text": [
      "0.733655133812\n"
     ]
    }
   ],
   "source": [
    "mask = selector.support_\n",
    "cols = []\n",
    "for i, m in enumerate(mask):\n",
    "    if mask[i] == True:\n",
    "        cols.append(list(train.columns)[i])\n",
    "        \n",
    "# train = train[cols]\n",
    "# test = test[cols]\n",
    "\n",
    "sv = SVR(kernel=\"linear\")\n",
    "sv = sv.fit(train[cols], y)\n",
    "\n",
    "print(sv.score(train[cols], y))\n",
    "preds = sv.predict(test[cols])"
   ]
  },
  {
   "cell_type": "code",
   "execution_count": 186,
   "metadata": {
    "scrolled": true
   },
   "outputs": [
    {
     "data": {
      "text/html": [
       "<div>\n",
       "<style>\n",
       "    .dataframe thead tr:only-child th {\n",
       "        text-align: right;\n",
       "    }\n",
       "\n",
       "    .dataframe thead th {\n",
       "        text-align: left;\n",
       "    }\n",
       "\n",
       "    .dataframe tbody tr th {\n",
       "        vertical-align: top;\n",
       "    }\n",
       "</style>\n",
       "<table border=\"1\" class=\"dataframe\">\n",
       "  <thead>\n",
       "    <tr style=\"text-align: right;\">\n",
       "      <th></th>\n",
       "      <th>mean_fit_time</th>\n",
       "      <th>mean_score_time</th>\n",
       "      <th>mean_test_score</th>\n",
       "      <th>mean_train_score</th>\n",
       "      <th>param_max_depth</th>\n",
       "      <th>param_n_estimators</th>\n",
       "      <th>params</th>\n",
       "      <th>rank_test_score</th>\n",
       "      <th>split0_test_score</th>\n",
       "      <th>split0_train_score</th>\n",
       "      <th>...</th>\n",
       "      <th>split2_test_score</th>\n",
       "      <th>split2_train_score</th>\n",
       "      <th>split3_test_score</th>\n",
       "      <th>split3_train_score</th>\n",
       "      <th>split4_test_score</th>\n",
       "      <th>split4_train_score</th>\n",
       "      <th>std_fit_time</th>\n",
       "      <th>std_score_time</th>\n",
       "      <th>std_test_score</th>\n",
       "      <th>std_train_score</th>\n",
       "    </tr>\n",
       "  </thead>\n",
       "  <tbody>\n",
       "    <tr>\n",
       "      <th>6</th>\n",
       "      <td>1.996796</td>\n",
       "      <td>0.012810</td>\n",
       "      <td>0.866683</td>\n",
       "      <td>0.981479</td>\n",
       "      <td>20</td>\n",
       "      <td>100</td>\n",
       "      <td>{'max_depth': 20, 'n_estimators': 100}</td>\n",
       "      <td>1</td>\n",
       "      <td>0.886444</td>\n",
       "      <td>0.981868</td>\n",
       "      <td>...</td>\n",
       "      <td>0.894961</td>\n",
       "      <td>0.979799</td>\n",
       "      <td>0.884285</td>\n",
       "      <td>0.981723</td>\n",
       "      <td>0.836657</td>\n",
       "      <td>0.981198</td>\n",
       "      <td>0.051680</td>\n",
       "      <td>0.000400</td>\n",
       "      <td>0.027093</td>\n",
       "      <td>0.000987</td>\n",
       "    </tr>\n",
       "    <tr>\n",
       "      <th>7</th>\n",
       "      <td>3.004602</td>\n",
       "      <td>0.021417</td>\n",
       "      <td>0.865870</td>\n",
       "      <td>0.981196</td>\n",
       "      <td>20</td>\n",
       "      <td>150</td>\n",
       "      <td>{'max_depth': 20, 'n_estimators': 150}</td>\n",
       "      <td>2</td>\n",
       "      <td>0.883478</td>\n",
       "      <td>0.981659</td>\n",
       "      <td>...</td>\n",
       "      <td>0.895476</td>\n",
       "      <td>0.979323</td>\n",
       "      <td>0.882932</td>\n",
       "      <td>0.980957</td>\n",
       "      <td>0.837646</td>\n",
       "      <td>0.981643</td>\n",
       "      <td>0.171675</td>\n",
       "      <td>0.003385</td>\n",
       "      <td>0.026736</td>\n",
       "      <td>0.001042</td>\n",
       "    </tr>\n",
       "    <tr>\n",
       "      <th>10</th>\n",
       "      <td>1.995795</td>\n",
       "      <td>0.013211</td>\n",
       "      <td>0.865539</td>\n",
       "      <td>0.981099</td>\n",
       "      <td>30</td>\n",
       "      <td>100</td>\n",
       "      <td>{'max_depth': 30, 'n_estimators': 100}</td>\n",
       "      <td>3</td>\n",
       "      <td>0.886939</td>\n",
       "      <td>0.981921</td>\n",
       "      <td>...</td>\n",
       "      <td>0.893488</td>\n",
       "      <td>0.978664</td>\n",
       "      <td>0.885075</td>\n",
       "      <td>0.981384</td>\n",
       "      <td>0.828909</td>\n",
       "      <td>0.980888</td>\n",
       "      <td>0.052777</td>\n",
       "      <td>0.000749</td>\n",
       "      <td>0.028295</td>\n",
       "      <td>0.001348</td>\n",
       "    </tr>\n",
       "  </tbody>\n",
       "</table>\n",
       "<p>3 rows × 22 columns</p>\n",
       "</div>"
      ],
      "text/plain": [
       "    mean_fit_time  mean_score_time  mean_test_score  mean_train_score  \\\n",
       "6        1.996796         0.012810         0.866683          0.981479   \n",
       "7        3.004602         0.021417         0.865870          0.981196   \n",
       "10       1.995795         0.013211         0.865539          0.981099   \n",
       "\n",
       "   param_max_depth param_n_estimators                                  params  \\\n",
       "6               20                100  {'max_depth': 20, 'n_estimators': 100}   \n",
       "7               20                150  {'max_depth': 20, 'n_estimators': 150}   \n",
       "10              30                100  {'max_depth': 30, 'n_estimators': 100}   \n",
       "\n",
       "    rank_test_score  split0_test_score  split0_train_score       ...         \\\n",
       "6                 1           0.886444            0.981868       ...          \n",
       "7                 2           0.883478            0.981659       ...          \n",
       "10                3           0.886939            0.981921       ...          \n",
       "\n",
       "    split2_test_score  split2_train_score  split3_test_score  \\\n",
       "6            0.894961            0.979799           0.884285   \n",
       "7            0.895476            0.979323           0.882932   \n",
       "10           0.893488            0.978664           0.885075   \n",
       "\n",
       "    split3_train_score  split4_test_score  split4_train_score  std_fit_time  \\\n",
       "6             0.981723           0.836657            0.981198      0.051680   \n",
       "7             0.980957           0.837646            0.981643      0.171675   \n",
       "10            0.981384           0.828909            0.980888      0.052777   \n",
       "\n",
       "    std_score_time  std_test_score  std_train_score  \n",
       "6         0.000400        0.027093         0.000987  \n",
       "7         0.003385        0.026736         0.001042  \n",
       "10        0.000749        0.028295         0.001348  \n",
       "\n",
       "[3 rows x 22 columns]"
      ]
     },
     "execution_count": 186,
     "metadata": {},
     "output_type": "execute_result"
    }
   ],
   "source": [
    "#GridSearchCV\n",
    "al = RandomForestRegressor(random_state=69)\n",
    "\n",
    "params = {\n",
    "    'n_estimators': [10, 50, 100, 150],\n",
    "    'max_depth': [10, 20, 30, None],\n",
    "    #'learning_rate': [0.01, 0.1, 1]\n",
    "}\n",
    "\n",
    "gs = GridSearchCV(al, params, cv=5, n_jobs=-1)\n",
    "gs = gs.fit(train_anal, y)\n",
    "\n",
    "pd.DataFrame(gs.cv_results_).sort_values('mean_test_score', ascending=False).head(3)"
   ]
  },
  {
   "cell_type": "code",
   "execution_count": 133,
   "metadata": {},
   "outputs": [
    {
     "name": "stdout",
     "output_type": "stream",
     "text": [
      "0.800436609967\n"
     ]
    }
   ],
   "source": [
    "# Linear Regression\n",
    "\n",
    "lr = LinearRegression()\n",
    "lr.fit(train_anal, y)\n",
    "print(lr.score(train_anal, y))\n",
    "preds = lr.predict(test_anal)"
   ]
  },
  {
   "cell_type": "code",
   "execution_count": 139,
   "metadata": {},
   "outputs": [
    {
     "name": "stdout",
     "output_type": "stream",
     "text": [
      "0.999317693576\n"
     ]
    }
   ],
   "source": [
    "# Gradient Boost w/ tuned params\n",
    "\n",
    "gb = GradientBoostingRegressor(max_depth=7, n_estimators=150)\n",
    "gb.fit(train_anal,y)\n",
    "print(gb.score(train_anal, y))\n",
    "preds = gb.predict(test_anal)"
   ]
  },
  {
   "cell_type": "code",
   "execution_count": 197,
   "metadata": {},
   "outputs": [
    {
     "name": "stdout",
     "output_type": "stream",
     "text": [
      "0.983090818034\n"
     ]
    }
   ],
   "source": [
    "# RandomForest w/ tuned params\n",
    "\n",
    "rf = RandomForestRegressor(n_jobs=-1, n_estimators=100, max_depth=20, random_state=69)\n",
    "rf.fit(train_anal, y)\n",
    "print(rf.score(train_anal, y))\n",
    "preds = rf.predict(test_anal) # 0.983080557095 - no scale"
   ]
  },
  {
   "cell_type": "code",
   "execution_count": 198,
   "metadata": {
    "collapsed": true,
    "scrolled": false
   },
   "outputs": [],
   "source": [
    "# write output\n",
    "create_submissions_file(preds, filename='rf_scale')"
   ]
  },
  {
   "cell_type": "code",
   "execution_count": 179,
   "metadata": {},
   "outputs": [
    {
     "data": {
      "text/plain": [
       "['Veenker', 'Somerst', 'Timber', 'StoneBr', 'NridgHt', 'NoRidge']"
      ]
     },
     "execution_count": 179,
     "metadata": {},
     "output_type": "execute_result"
    },
    {
     "data": {
      "image/png": "[encoded data removed]",
      "text/plain": [
       "<matplotlib.figure.Figure at 0x18109b70>"
      ]
     },
     "metadata": {},
     "output_type": "display_data"
    }
   ],
   "source": [
    "# neighborhood analysis\n",
    "\n",
    "# what Neighborhoods have greatest proportion of high-price homes\n",
    "ct = train.SalePrice.quantile(0.75)\n",
    "t = train.copy()\n",
    "t['high_price'] = np.where(t.SalePrice >= ct, 1, 0)\n",
    "\n",
    "o = t[['Neighborhood', 'high_price']].groupby(['Neighborhood']).mean().sort_values(by='high_price').index\n",
    "sns.barplot(data=t, x='Neighborhood', y='high_price', order=list(o))\n",
    "\n",
    "o = t[['Neighborhood', 'high_price']].groupby(['Neighborhood']).mean().sort_values('high_price')\n",
    "\n",
    "# at least 60% ofhome are high price\n",
    "list(o[o.values >= 0.50].index)"
   ]
  },
  {
   "cell_type": "code",
   "execution_count": 194,
   "metadata": {},
   "outputs": [
    {
     "data": {
      "text/plain": [
       "SalePrice           1.000000\n",
       "OverallQual         0.790982\n",
       "total_sf            0.763487\n",
       "GrLivArea           0.708624\n",
       "GarageCars          0.640409\n",
       "total_baths         0.631731\n",
       "GarageArea          0.623431\n",
       "TotalBsmtSF         0.613581\n",
       "1stFlrSF            0.605852\n",
       "rich_neighbor       0.588288\n",
       "FullBath            0.560664\n",
       "TotRmsAbvGrd        0.533723\n",
       "YearBuilt           0.522897\n",
       "YearRemodAdd        0.507101\n",
       "GarageYrBlt         0.486362\n",
       "MasVnrArea          0.477493\n",
       "Fireplaces          0.466929\n",
       "BsmtFinSF1          0.386420\n",
       "LotFrontage         0.351799\n",
       "WoodDeckSF          0.324413\n",
       "2ndFlrSF            0.319334\n",
       "OpenPorchSF         0.315856\n",
       "HalfBath            0.284108\n",
       "lot_shape           0.267759\n",
       "LotArea             0.263843\n",
       "has_garage          0.236832\n",
       "BsmtFullBath        0.227122\n",
       "BsmtUnfSF           0.214479\n",
       "BedroomAbvGr        0.168213\n",
       "has_culdesac        0.141818\n",
       "ScreenPorch         0.111447\n",
       "PoolArea            0.092404\n",
       "MoSold              0.046432\n",
       "3SsnPorch           0.044584\n",
       "BsmtFinSF2         -0.011378\n",
       "BsmtHalfBath       -0.016844\n",
       "MiscVal            -0.021190\n",
       "Id                 -0.021917\n",
       "LowQualFinSF       -0.025606\n",
       "YrSold             -0.028923\n",
       "OverallCond        -0.077856\n",
       "MSSubClass         -0.084284\n",
       "EnclosedPorch      -0.128578\n",
       "KitchenAbvGr       -0.135907\n",
       "garage_cond        -0.263191\n",
       "is_lot_shape_reg   -0.267672\n",
       "garage_qual        -0.273839\n",
       "bmt_fin            -0.304908\n",
       "bmt_exp            -0.374696\n",
       "home_age           -0.523350\n",
       "garage_fin         -0.549247\n",
       "bmt_cond           -0.585207\n",
       "kitchen_quality    -0.659600\n",
       "Name: SalePrice, dtype: float64"
      ]
     },
     "execution_count": 194,
     "metadata": {},
     "output_type": "execute_result"
    }
   ],
   "source": [
    "get_correlations()"
   ]
  },
  {
   "cell_type": "code",
   "execution_count": 195,
   "metadata": {},
   "outputs": [
    {
     "data": {
      "text/plain": [
       "<matplotlib.axes._subplots.AxesSubplot at 0x19d17588>"
      ]
     },
     "execution_count": 195,
     "metadata": {},
     "output_type": "execute_result"
    },
    {
     "data": {
      "image/png": "[encoded data removed]",
      "text/plain": [
       "<matplotlib.figure.Figure at 0x19cc48d0>"
      ]
     },
     "metadata": {},
     "output_type": "display_data"
    }
   ],
   "source": [
    "sns.distplot(train.SalePrice)"
   ]
  },
  {
   "cell_type": "code",
   "execution_count": 196,
   "metadata": {},
   "outputs": [
    {
     "data": {
      "text/plain": [
       "<matplotlib.axes._subplots.AxesSubplot at 0x197db160>"
      ]
     },
     "execution_count": 196,
     "metadata": {},
     "output_type": "execute_result"
    },
    {
     "data": {
      "image/png": "[encoded data removed]",
      "text/plain": [
       "<matplotlib.figure.Figure at 0x197b5ef0>"
      ]
     },
     "metadata": {},
     "output_type": "display_data"
    }
   ],
   "source": [
    "sns.distplot(preds)"
   ]
  },
  {
   "cell_type": "code",
   "execution_count": null,
   "metadata": {
    "collapsed": true
   },
   "outputs": [],
   "source": []
  }
 ],
 "metadata": {
  "kernelspec": {
   "display_name": "Python 3",
   "language": "python",
   "name": "python3"
  },
  "language_info": {
   "codemirror_mode": {
    "name": "ipython",
    "version": 3
   },
   "file_extension": ".py",
   "mimetype": "text/x-python",
   "name": "python",
   "nbconvert_exporter": "python",
   "pygments_lexer": "ipython3",
   "version": "3.6.1"
  }
 },
 "nbformat": 4,
 "nbformat_minor": 2
}
